{
 "cells": [
  {
   "cell_type": "markdown",
   "metadata": {},
   "source": [
    "## Задание 1"
   ]
  },
  {
   "cell_type": "markdown",
   "metadata": {},
   "source": [
    "Дан список вида:"
   ]
  },
  {
   "cell_type": "code",
   "execution_count": 37,
   "metadata": {},
   "outputs": [
    {
     "data": {
      "text/plain": [
       "103"
      ]
     },
     "execution_count": 37,
     "metadata": {},
     "output_type": "execute_result"
    }
   ],
   "source": [
    "data = [\n",
    "    [13, 25, 23, 34],\n",
    "    [45, 32, 44, 47],\n",
    "    [12, 33, 23, 95],\n",
    "    [13, 53, 34, 35]\n",
    "]\n",
    "\n",
    "def my_function ():\n",
    "  a = data [0][0]\n",
    "  b = data [1][1]\n",
    "  c = data [2][2]\n",
    "  d = data [3][3]\n",
    "  result = a+b+c+d\n",
    "  return result\n",
    "\n",
    "my_function ()"
   ]
  },
  {
   "cell_type": "markdown",
   "metadata": {},
   "source": [
    "Напишите функцию, которая возвращает сумму элементов на диагонали. Т. е. 13+32+23+35."
   ]
  },
  {
   "cell_type": "markdown",
   "metadata": {},
   "source": [
    "## Задание 2"
   ]
  },
  {
   "cell_type": "markdown",
   "metadata": {},
   "source": [
    "Дан список чисел, часть из которых имеют строковый тип или содержат буквы. Напишите функцию, которая возвращает сумму квадратов элементов, которые могут быть числами."
   ]
  },
  {
   "cell_type": "code",
   "execution_count": 46,
   "metadata": {},
   "outputs": [
    {
     "data": {
      "text/plain": [
       "401"
      ]
     },
     "execution_count": 46,
     "metadata": {},
     "output_type": "execute_result"
    }
   ],
   "source": [
    "data = [1, '5', 'abc', 20, '2']\n",
    "\n",
    "def my_function2():\n",
    "    total = []\n",
    "    for num in data:\n",
    "        if type(num) == int:\n",
    "            total.append(num*num)\n",
    "    result = sum(total)\n",
    "    return result\n",
    "\n",
    "my_function2 ()"
   ]
  },
  {
   "cell_type": "markdown",
   "metadata": {},
   "source": [
    "## Задание 3"
   ]
  },
  {
   "cell_type": "markdown",
   "metadata": {},
   "source": [
    "Напишите функцию, возвращающую сумму первых n чисел Фибоначчи.\n",
    "\n"
   ]
  },
  {
   "cell_type": "code",
   "execution_count": 66,
   "metadata": {},
   "outputs": [
    {
     "data": {
      "text/plain": [
       "54"
      ]
     },
     "execution_count": 66,
     "metadata": {},
     "output_type": "execute_result"
    }
   ],
   "source": [
    "def fibo (n):\n",
    "    if n in [1,2]:\n",
    "        return 1\n",
    "    else:\n",
    "        result = fibo (n-1) + fibo (n-2)\n",
    "    return result\n",
    "\n",
    "def sum_fibo(n):\n",
    "    result = [fibo(i) for i in range(1, n+1)]\n",
    "    return sum(result)\n",
    "\n",
    "sum_fibo (8)"
   ]
  },
  {
   "cell_type": "markdown",
   "metadata": {},
   "source": [
    "## Задание 4"
   ]
  },
  {
   "cell_type": "markdown",
   "metadata": {},
   "source": [
    "Дан набор данных об обучении студентов на курсе программирования, который содержит: \n",
    "1) имя\n",
    "2) фамилию \n",
    "3) пол \n",
    "4) наличие у студента опыта в программировании \n",
    "5) набор оценок за домашние работы \n",
    "6) оценку за итоговую работу.\n",
    "\n",
    "Напишите программу, которая будет принимать команду от пользователя и возвращать соотвествующий результат.\n",
    "Список команд: \n",
    "1 - вывести на экран среднюю оценку за все ДЗ по группе и вывести на экран среднюю оценку за экзамен по группе;\n",
    "2 - вывести среднюю оценку за ДЗ и за экзамен по группе в разрезе пола студентов\n",
    "3 - вывести среднюю оценку за ДЗ и за экзамен в разрезе наличия опыта в программировании у студентов.\n",
    "\n",
    "Прогрмма должна быть полностью декомпозирована на функции (кроме объявления функций и вызова итоговой функции в реализации ничего быть не должно)."
   ]
  },
  {
   "cell_type": "code",
   "execution_count": 60,
   "metadata": {
    "scrolled": true
   },
   "outputs": [
    {
     "name": "stdout",
     "output_type": "stream",
     "text": [
      "Введите число от 1 до 3: 3\n",
      "Средняя оценка студентов с опытом -  8.48 Средняя оценка за экзамен студентов с опытом -  9.0 Средняя оценка студентов без опыта -  8.2 Средняя оценка за экзамен студентов без опыта -  10.0\n"
     ]
    }
   ],
   "source": [
    "students_list = [\n",
    "    {'name': 'Василий', 'surname': 'Теркин', 'sex': 'м', 'program_exp': True, 'grade': [8, 8, 9, 10, 9], 'exam': 9},\n",
    "    {'name': 'Мария', 'surname': 'Павлова', 'sex': 'ж', 'program_exp': True, 'grade': [7, 8, 9, 7, 9], 'exam': 8},\n",
    "    {'name': 'Ирина', 'surname': 'Андреева', 'sex': 'ж', 'program_exp': True, 'grade': [10, 9, 8, 10, 10], 'exam': 10},\n",
    "    {'name': 'Татьяна', 'surname': 'Сидорова', 'sex': 'ж', 'program_exp': True, 'grade': [7, 8, 8, 9, 8], 'exam': 8},\n",
    "    {'name': 'Иван', 'surname': 'Васильев', 'sex': 'м', 'program_exp': True, 'grade': [9, 8, 9, 6, 9], 'exam': 10},\n",
    "    {'name': 'Роман', 'surname': 'Золотарев', 'sex': 'м', 'program_exp': False, 'grade': [8, 9, 9, 6, 9], 'exam': 10}\n",
    "]\n",
    " \n",
    "# 'все студенты'\n",
    "def student_list1 ():\n",
    "    student_list = []\n",
    "    for student in students_list:\n",
    "        student_list.append (list(student.values()))\n",
    "    result = student_list\n",
    "    return result\n",
    "\n",
    "student_list1 ()\n",
    "\n",
    "# 'студенты мужчины'\n",
    "def student_male ():\n",
    "    student_list_m = []\n",
    "    for person in student_list1():\n",
    "        if person[2] == 'м':\n",
    "            student_list_m.append (person)\n",
    "    result = student_list_m\n",
    "    return result\n",
    "\n",
    "student_male ()\n",
    "\n",
    "# 'студенты женщины'\n",
    "def student_female ():\n",
    "    student_list_f = []\n",
    "    for person in student_list1():\n",
    "        if person[2] == 'ж':\n",
    "            student_list_f.append (person)\n",
    "    result = student_list_f\n",
    "    return result\n",
    "\n",
    "student_female ()\n",
    "\n",
    "# 'студенты c опытом'\n",
    "def student_exp_y ():\n",
    "    student_list_y = []\n",
    "    for person in student_list1():\n",
    "        if person[3] is True:\n",
    "            student_list_y.append (person)\n",
    "    result = student_list_y\n",
    "    return result\n",
    "\n",
    "student_exp_y ()\n",
    "\n",
    "# 'студенты без опыта'\n",
    "def student_exp_n ():\n",
    "    student_list_n = []\n",
    "    for person in student_list1():\n",
    "        if person[3] is False:\n",
    "            student_list_n.append (person)\n",
    "    result = student_list_n\n",
    "    return result\n",
    "\n",
    "student_exp_n ()\n",
    "\n",
    "def grades(g):\n",
    "    grades = []\n",
    "    if g ==1:\n",
    "        for grade in student_list1():\n",
    "            grade = sum (grade[4]) / len (grade[4])\n",
    "            grades.append (grade)\n",
    "    if g == 2:\n",
    "        for grade in student_male():\n",
    "            grade = sum (grade[4]) / len (grade[4])\n",
    "            grades.append (grade)\n",
    "    if g == 3:\n",
    "        for grade in student_female():\n",
    "            grade = sum (grade[4]) / len (grade[4])\n",
    "            grades.append (grade)\n",
    "    if g == 4:\n",
    "        for grade in student_exp_y():\n",
    "            grade = sum (grade[4]) / len (grade[4])\n",
    "            grades.append (grade)\n",
    "    if g == 5:\n",
    "        for grade in student_exp_n():\n",
    "            grade = sum (grade[4]) / len (grade[4])\n",
    "            grades.append (grade)\n",
    "    result = grades\n",
    "    return result\n",
    "grades (1)\n",
    "\n",
    "\n",
    "def average_total (at):\n",
    "    if at ==1:\n",
    "        result = round(sum (grades(1)) / len (grades(1)), 2)\n",
    "    if at ==2:\n",
    "        result = round(sum (grades(2)) / len (grades(2)), 2)\n",
    "    if at ==3:\n",
    "        result = round(sum (grades(3)) / len (grades(3)), 2)\n",
    "    if at ==4:\n",
    "        result = round(sum (grades(4)) / len (grades(4)), 2)\n",
    "    if at ==5:\n",
    "        result = round(sum (grades(5)) / len (grades(5)), 2)\n",
    "    return result\n",
    "\n",
    "average_total(4)\n",
    "\n",
    "def exams (e):\n",
    "    if e ==1:\n",
    "        exams = []\n",
    "        for exam in student_list1 ():\n",
    "            exam = exam [5]\n",
    "            exams.append (exam)\n",
    "    if e ==2:\n",
    "        exams = []\n",
    "        for exam in student_male ():\n",
    "            exam = exam [5]\n",
    "            exams.append (exam)\n",
    "    if e ==3:\n",
    "        exams = []\n",
    "        for exam in student_female ():\n",
    "            exam = exam [5]\n",
    "            exams.append (exam)\n",
    "    if e ==4:\n",
    "        exams = []\n",
    "        for exam in student_exp_y ():\n",
    "            exam = exam [5]\n",
    "            exams.append (exam)\n",
    "    if e ==5:\n",
    "        exams = []\n",
    "        for exam in student_exp_n ():\n",
    "            exam = exam [5]\n",
    "            exams.append (exam)\n",
    "    result = exams\n",
    "    return result\n",
    "exams (2)\n",
    "\n",
    "def average_exam (ae):\n",
    "    if ae ==1:\n",
    "        result = round (sum (exams (1)) / len (exams (1)), 2)\n",
    "    if ae ==2:\n",
    "        result = round (sum (exams (2)) / len (exams (2)), 2)\n",
    "    if ae ==3:\n",
    "        result = round (sum (exams (3)) / len (exams (3)), 2)\n",
    "    if ae ==4:\n",
    "        result = round (sum (exams (4)) / len (exams (4)), 2)\n",
    "    if ae ==5:\n",
    "        result = round (sum (exams (5)) / len (exams (5)), 2)\n",
    "    return result\n",
    "average_exam (2)\n",
    "\n",
    "def final ():\n",
    "    x = input ('Введите число от 1 до 3: ')\n",
    "    if x=='1':\n",
    "        student_list1 ()\n",
    "        grades (1)\n",
    "        average_total(1)\n",
    "        exams (1)\n",
    "        average_exam (1)\n",
    "        result = print ('Средняя оценка в группе - ', average_total(1), 'Средняя оценка за экзамен - ', average_exam (1))\n",
    "    elif x=='2':\n",
    "        student_list1 ()\n",
    "        grades (2)\n",
    "        grades (3)\n",
    "        average_total(2)\n",
    "        average_total(3)\n",
    "        exams (2)\n",
    "        exams (3)\n",
    "        average_exam (2)\n",
    "        average_exam (3)\n",
    "        result = print ('Средняя оценка студентов мужского пола - ', average_total(2), 'Средняя оценка за экзамен студентов мужского пола - ', average_exam (2), 'Средняя оценка студентов женского пола - ', average_total(3), 'Средняя оценка за экзамен студентов женского пола - ', average_exam (3))\n",
    "    else:\n",
    "        student_list1 ()\n",
    "        grades (4)\n",
    "        grades (5)\n",
    "        average_total(4)\n",
    "        average_total(5)\n",
    "        exams (4)\n",
    "        exams (5)\n",
    "        average_exam (4)\n",
    "        average_exam (5)\n",
    "        result = print ('Средняя оценка студентов с опытом - ', average_total(4), 'Средняя оценка за экзамен студентов с опытом - ', average_exam (4), 'Средняя оценка студентов без опыта - ', average_total(5), 'Средняя оценка за экзамен студентов без опыта - ', average_exam (5)) \n",
    "    return result\n",
    "final ()\n"
   ]
  },
  {
   "cell_type": "code",
   "execution_count": null,
   "metadata": {},
   "outputs": [],
   "source": []
  }
 ],
 "metadata": {
  "kernelspec": {
   "display_name": "Python 3",
   "language": "python",
   "name": "python3"
  },
  "language_info": {
   "codemirror_mode": {
    "name": "ipython",
    "version": 3
   },
   "file_extension": ".py",
   "mimetype": "text/x-python",
   "name": "python",
   "nbconvert_exporter": "python",
   "pygments_lexer": "ipython3",
   "version": "3.7.3"
  }
 },
 "nbformat": 4,
 "nbformat_minor": 2
}
