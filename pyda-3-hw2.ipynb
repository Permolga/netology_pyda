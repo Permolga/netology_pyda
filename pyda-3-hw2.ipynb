{
 "cells": [
  {
   "cell_type": "markdown",
   "metadata": {},
   "source": [
    "## Задание 1"
   ]
  },
  {
   "cell_type": "markdown",
   "metadata": {},
   "source": [
    "Дан список вида:"
   ]
  },
  {
   "cell_type": "code",
   "execution_count": 4,
   "metadata": {},
   "outputs": [],
   "source": [
    "data = [\n",
    "    [13, 25, 23, 34],\n",
    "    [45, 32, 44, 47],\n",
    "    [12, 33, 23, 95],\n",
    "    [13, 53, 34, 35]\n",
    "]"
   ]
  },
  {
   "cell_type": "code",
   "execution_count": 6,
   "metadata": {},
   "outputs": [
    {
     "data": {
      "text/plain": [
       "103"
      ]
     },
     "execution_count": 6,
     "metadata": {},
     "output_type": "execute_result"
    }
   ],
   "source": [
    "import numpy as np\n",
    "sum(np.diag(data))"
   ]
  },
  {
   "cell_type": "markdown",
   "metadata": {},
   "source": [
    "Напишите функцию, которая возвращает сумму элементов на диагонали. Т. е. 13+32+23+35."
   ]
  },
  {
   "cell_type": "markdown",
   "metadata": {},
   "source": [
    "## Задание 2"
   ]
  },
  {
   "cell_type": "markdown",
   "metadata": {},
   "source": [
    "Дан список чисел, часть из которых имеют строковый тип или содержат буквы. Напишите функцию, которая возвращает сумму квадратов элементов, которые могут быть числами."
   ]
  },
  {
   "cell_type": "code",
   "execution_count": 44,
   "metadata": {},
   "outputs": [
    {
     "name": "stdout",
     "output_type": "stream",
     "text": [
      "430\n"
     ]
    }
   ],
   "source": [
    "data = [1, '5', 'abc', 20, '2']\n",
    "\n",
    "def square():\n",
    "    data2 = []\n",
    "    for i in data:\n",
    "        try: \n",
    "            i= int(i)\n",
    "            data2.append(i**2)\n",
    "        except ValueError:\n",
    "            continue \n",
    "    print (sum (data2))\n",
    "\n",
    "square()"
   ]
  },
  {
   "cell_type": "markdown",
   "metadata": {},
   "source": [
    "## Задание 3"
   ]
  },
  {
   "cell_type": "markdown",
   "metadata": {},
   "source": [
    "Напишите функцию, возвращающую сумму первых n чисел Фибоначчи.\n",
    "\n"
   ]
  },
  {
   "cell_type": "code",
   "execution_count": 66,
   "metadata": {},
   "outputs": [
    {
     "data": {
      "text/plain": [
       "54"
      ]
     },
     "execution_count": 66,
     "metadata": {},
     "output_type": "execute_result"
    }
   ],
   "source": [
    "def fibo (n):\n",
    "    if n in [1,2]:\n",
    "        return 1\n",
    "    else:\n",
    "        result = fibo (n-1) + fibo (n-2)\n",
    "    return result\n",
    "\n",
    "def sum_fibo(n):\n",
    "    result = [fibo(i) for i in range(1, n+1)]\n",
    "    return sum(result)\n",
    "\n",
    "sum_fibo (8)"
   ]
  },
  {
   "cell_type": "markdown",
   "metadata": {},
   "source": [
    "## Задание 4"
   ]
  },
  {
   "cell_type": "markdown",
   "metadata": {},
   "source": [
    "Дан набор данных об обучении студентов на курсе программирования, который содержит: \n",
    "1) имя\n",
    "2) фамилию \n",
    "3) пол \n",
    "4) наличие у студента опыта в программировании \n",
    "5) набор оценок за домашние работы \n",
    "6) оценку за итоговую работу.\n",
    "\n",
    "Напишите программу, которая будет принимать команду от пользователя и возвращать соотвествующий результат.\n",
    "Список команд: \n",
    "1 - вывести на экран среднюю оценку за все ДЗ по группе и вывести на экран среднюю оценку за экзамен по группе;\n",
    "2 - вывести среднюю оценку за ДЗ и за экзамен по группе в разрезе пола студентов\n",
    "3 - вывести среднюю оценку за ДЗ и за экзамен в разрезе наличия опыта в программировании у студентов.\n",
    "\n",
    "Прогрмма должна быть полностью декомпозирована на функции (кроме объявления функций и вызова итоговой функции в реализации ничего быть не должно)."
   ]
  },
  {
   "cell_type": "code",
   "execution_count": 34,
   "metadata": {
    "scrolled": true
   },
   "outputs": [
    {
     "name": "stdout",
     "output_type": "stream",
     "text": [
      "Введите число от 1 до 3: 3\n",
      "Средняя оценка студентов с опытом -  8.48 Средняя оценка за экзамен студентов с опытом  9.0\n",
      "Средняя оценка студентов без опыта -  8.2 Средняя оценка за экзамен студентов без опыта -  10.0\n"
     ]
    }
   ],
   "source": [
    "students_list = [\n",
    "    {'name': 'Василий', 'surname': 'Теркин', 'sex': 'м', 'program_exp': True, 'grade': [8, 8, 9, 10, 9], 'exam': 9},\n",
    "    {'name': 'Мария', 'surname': 'Павлова', 'sex': 'ж', 'program_exp': True, 'grade': [7, 8, 9, 7, 9], 'exam': 8},\n",
    "    {'name': 'Ирина', 'surname': 'Андреева', 'sex': 'ж', 'program_exp': True, 'grade': [10, 9, 8, 10, 10], 'exam': 10},\n",
    "    {'name': 'Татьяна', 'surname': 'Сидорова', 'sex': 'ж', 'program_exp': True, 'grade': [7, 8, 8, 9, 8], 'exam': 8},\n",
    "    {'name': 'Иван', 'surname': 'Васильев', 'sex': 'м', 'program_exp': True, 'grade': [9, 8, 9, 6, 9], 'exam': 10},\n",
    "    {'name': 'Роман', 'surname': 'Золотарев', 'sex': 'м', 'program_exp': False, 'grade': [8, 9, 9, 6, 9], 'exam': 10}\n",
    "]\n",
    " \n",
    "# 'все студенты'\n",
    "def student_list1():\n",
    "    student_list = []\n",
    "    for student in students_list:\n",
    "        student_list.append (list(student.values()))\n",
    "    result = student_list\n",
    "    return result\n",
    "\n",
    "student_list1()\n",
    "\n",
    "# 'по полу'\n",
    "def sex(s):\n",
    "    if s =='m':\n",
    "        student_list_m = []\n",
    "        for person in student_list1():\n",
    "            if person[2] == 'м':\n",
    "                student_list_m.append (person)\n",
    "        result = student_list_m\n",
    "    if s =='f':\n",
    "        student_list_f = []\n",
    "        for person in student_list1():\n",
    "            if person[2] == 'ж':\n",
    "                student_list_f.append (person)\n",
    "        result = student_list_f\n",
    "    return result\n",
    "\n",
    "sex('m')\n",
    "\n",
    "# 'по опыту'\n",
    "def exp(e):\n",
    "    if e=='y':\n",
    "        student_list_y = []\n",
    "        for person in student_list1():\n",
    "            if person[3] is True:\n",
    "                student_list_y.append (person)\n",
    "        result = student_list_y\n",
    "    if e =='n':\n",
    "        student_list_n = []\n",
    "        for person in student_list1():\n",
    "            if person[3] is False:\n",
    "                student_list_n.append (person)\n",
    "        result = student_list_n\n",
    "    return result\n",
    "\n",
    "exp('n')\n",
    "\n",
    "# 'оценки каждого студента и общие'\n",
    "def grades(g,s):\n",
    "    grades = []\n",
    "    if g == 1 and s=='q':\n",
    "        response = student_list1()\n",
    "    if g == 2 and s == 'm':\n",
    "        response = sex('m')\n",
    "    if g == 2 and s == 'f':\n",
    "        response = sex('f')\n",
    "    if g == 3 and s == 'y':\n",
    "        response = exp('y')\n",
    "    if g ==3 and s == 'n':\n",
    "        response = exp('n')\n",
    "    for grade in response:\n",
    "        grade = sum (grade[4]) / len (grade[4])\n",
    "        grades.append (grade)\n",
    "    result = round(sum (grades) / len (grades), 2)\n",
    "    return result\n",
    "grades(3, 'n')\n",
    "\n",
    "# ''экзамены каждого студента и общие'\n",
    "def exams (ex,s):\n",
    "    exams = []\n",
    "    if ex == 1 and s == 'q':\n",
    "        response = student_list1()\n",
    "    if ex == 2 and s == 'm':\n",
    "        response = sex('m')\n",
    "    if ex == 2 and s == 'f':\n",
    "        response = sex('f')\n",
    "    if ex == 3 and s == 'y':\n",
    "        response = exp('y')\n",
    "    if ex == 3 and s == 'n':\n",
    "        response = exp('n')\n",
    "    for exam in response:\n",
    "        exam = exam [5]\n",
    "        exams.append (exam)\n",
    "    result = round (sum (exams) / len (exams), 2)\n",
    "    return result\n",
    "exams(3,'y')\n",
    "\n",
    "def final():\n",
    "    x = input ('Введите число от 1 до 3: ')\n",
    "    if x=='1':\n",
    "        grades (1, 'q')\n",
    "        exams (1,'q')\n",
    "        print ('Средняя оценка в группе - ', grades (1, 'q'), 'Средняя оценка за экзамен - ', exams (1,'q'))\n",
    "    elif x=='2':\n",
    "        grades(2, 'm')\n",
    "        grades(2, 'f')\n",
    "        exams (2,'m')\n",
    "        exams (2,'f')\n",
    "        print ('Средняя оценка студентов мужского пола - ', grades(2, 'm'), 'Средняя оценка за экзамен студентов мужского пола - ', exams (2,'m'))\n",
    "        print ('Средняя оценка студентов женского пола - ', grades(2, 'f'), 'Средняя оценка за экзамен студентов женского пола - ', exams (2,'f'))\n",
    "    \n",
    "    else:\n",
    "        grades(3, 'y')\n",
    "        grades(3, 'n')\n",
    "        exams (3,'y')\n",
    "        exams (3,'n')\n",
    "        print ('Средняя оценка студентов с опытом - ', grades(3, 'y'), 'Средняя оценка за экзамен студентов с опытом ', exams (3,'y'))\n",
    "        print ('Средняя оценка студентов без опыта - ', grades(3, 'n'), 'Средняя оценка за экзамен студентов без опыта - ', exams (3,'n')) \n",
    "final()"
   ]
  },
  {
   "cell_type": "code",
   "execution_count": null,
   "metadata": {},
   "outputs": [],
   "source": []
  }
 ],
 "metadata": {
  "kernelspec": {
   "display_name": "Python 3",
   "language": "python",
   "name": "python3"
  },
  "language_info": {
   "codemirror_mode": {
    "name": "ipython",
    "version": 3
   },
   "file_extension": ".py",
   "mimetype": "text/x-python",
   "name": "python",
   "nbconvert_exporter": "python",
   "pygments_lexer": "ipython3",
   "version": "3.7.3"
  }
 },
 "nbformat": 4,
 "nbformat_minor": 2
}
